{
 "cells": [
  {
   "cell_type": "code",
   "execution_count": null,
   "metadata": {},
   "outputs": [],
   "source": [
    "import os\n",
    "from gensim import corpora, utils\n",
    "\n",
    "from gensim.models.wrappers.dtmmodel import DtmModel\n",
    "import numpy as np\n",
    "import pickle\n",
    "import time\n",
    "import re"
   ]
  },
  {
   "cell_type": "code",
   "execution_count": null,
   "metadata": {
    "collapsed": true
   },
   "outputs": [],
   "source": [
    "class DTMcorpus(corpora.textcorpus.TextCorpus):\n",
    "\n",
    "    def get_texts(self):\n",
    "        return self.input\n",
    "\n",
    "    def __len__(self):\n",
    "        return len(self.input)"
   ]
  },
  {
   "cell_type": "code",
   "execution_count": null,
   "metadata": {
    "collapsed": true
   },
   "outputs": [],
   "source": [
    "# load in documents\n",
    "from os import listdir\n",
    "\n",
    "textPath = '../corpus/gensim_tokens/'\n",
    "tokenFiles = listdir(textPath)"
   ]
  },
  {
   "cell_type": "code",
   "execution_count": null,
   "metadata": {},
   "outputs": [],
   "source": [
    "print(len(tokenFiles))"
   ]
  },
  {
   "cell_type": "code",
   "execution_count": null,
   "metadata": {
    "collapsed": true
   },
   "outputs": [],
   "source": [
    "def parseYear(filename):\n",
    "    year = filename.split('-')[0]\n",
    "    year = re.sub('\\D', '', year)\n",
    "    return int(year)"
   ]
  },
  {
   "cell_type": "code",
   "execution_count": null,
   "metadata": {
    "collapsed": true
   },
   "outputs": [],
   "source": [
    "fileYearPairs = [(t, parseYear(t)) for t in tokenFiles[::300] if parseYear(t) > 1400]\n",
    "yearMin = min([fyp[1] for fyp in fileYearPairs])\n",
    "yearMax = max([fyp[1] for fyp in fileYearPairs])\n",
    "interval = 20"
   ]
  },
  {
   "cell_type": "code",
   "execution_count": null,
   "metadata": {},
   "outputs": [],
   "source": [
    "fyp = sorted(fileYearPairs, key = lambda x: x[1])\n",
    "print(len(fyp))"
   ]
  },
  {
   "cell_type": "code",
   "execution_count": null,
   "metadata": {
    "collapsed": true
   },
   "outputs": [],
   "source": [
    "# documents = []\n",
    "time_slices = [0 for i in range(yearMin, yearMax, interval)]\n",
    "\n",
    "sliceYear = yearMin\n",
    "batch = 0\n",
    "for p in fyp:\n",
    "    filename = p[0]\n",
    "    year = p[1]\n",
    "#     with open(textPath + filename, 'rb') as fp:\n",
    "#         documents.append(pickle.load(fp))\n",
    "    if year - sliceYear < interval:\n",
    "        time_slices[batch] += 1\n",
    "    else:\n",
    "        batch += 1\n",
    "        time_slices[batch] += 1\n",
    "        sliceYear += 20\n"
   ]
  },
  {
   "cell_type": "code",
   "execution_count": null,
   "metadata": {},
   "outputs": [],
   "source": [
    "print(time_slices)\n",
    "sum(time_slices)"
   ]
  },
  {
   "cell_type": "code",
   "execution_count": null,
   "metadata": {
    "collapsed": true
   },
   "outputs": [],
   "source": [
    "# corpus = DTMcorpus(documents)"
   ]
  },
  {
   "cell_type": "code",
   "execution_count": null,
   "metadata": {
    "collapsed": true
   },
   "outputs": [],
   "source": [
    "# from gensim.corpora import MmCorpus\n",
    "# MmCorpus.serialize('./dtm.corpus', corpus)"
   ]
  },
  {
   "cell_type": "code",
   "execution_count": null,
   "metadata": {
    "collapsed": true
   },
   "outputs": [],
   "source": [
    "corpus = MmCorpus('./gensim_dtm.corpus')"
   ]
  },
  {
   "cell_type": "code",
   "execution_count": null,
   "metadata": {
    "collapsed": true
   },
   "outputs": [],
   "source": [
    "# from gensim.models import LdaSeqModel\n",
    "# ldaseq = LdaSeqModel(corpus, time_slices, num_topics=50, chunksize=1)"
   ]
  },
  {
   "cell_type": "code",
   "execution_count": null,
   "metadata": {
    "collapsed": true
   },
   "outputs": [],
   "source": [
    "# ldaseq.save('./ldaseq.model')\n",
    "# ldaseq.print_topic_times(0, top_terms = 10)"
   ]
  },
  {
   "cell_type": "code",
   "execution_count": null,
   "metadata": {
    "collapsed": true
   },
   "outputs": [],
   "source": [
    "dtm_path = './dtm-linux64'"
   ]
  },
  {
   "cell_type": "code",
   "execution_count": null,
   "metadata": {},
   "outputs": [],
   "source": [
    "model = DtmModel(dtm_path, corpus, time_slices, num_topics=50, id2word=corpus.dictionary)\n"
   ]
  },
  {
   "cell_type": "code",
   "execution_count": null,
   "metadata": {
    "collapsed": true
   },
   "outputs": [],
   "source": [
    "model.save('./dtm_linux.model')"
   ]
  },
  {
   "cell_type": "code",
   "execution_count": null,
   "metadata": {
    "collapsed": true
   },
   "outputs": [],
   "source": []
  }
 ],
 "metadata": {
  "kernelspec": {
   "display_name": "Python 3",
   "language": "python",
   "name": "python3"
  },
  "language_info": {
   "codemirror_mode": {
    "name": "ipython",
    "version": 3
   },
   "file_extension": ".py",
   "mimetype": "text/x-python",
   "name": "python",
   "nbconvert_exporter": "python",
   "pygments_lexer": "ipython3",
   "version": "3.5.2"
  }
 },
 "nbformat": 4,
 "nbformat_minor": 2
}
